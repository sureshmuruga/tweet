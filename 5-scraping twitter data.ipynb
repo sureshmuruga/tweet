{
 "cells": [
  {
   "cell_type": "code",
   "execution_count": 2,
   "metadata": {},
   "outputs": [],
   "source": [
    "import json\n",
    "import csv\n",
    "import tweepy\n",
    "import re"
   ]
  },
  {
   "cell_type": "code",
   "execution_count": 4,
   "metadata": {},
   "outputs": [
    {
     "name": "stdout",
     "output_type": "stream",
     "text": [
      "Isles Beyond Skye by Ian Harper &amp; Henry Nathan.\n",
      "\n",
      "Some people think crystal clear waters are a long flight away, but… https://t.co/VE5UnHH7Wg The Art of Flow by Brandon Li.\n",
      "\n",
      "Learning about capoeira, a form of martial arts and dance, free diving &amp; sea turtle… https://t.co/pIyicHZ97y 🌿Land of the Long White Cloud by Ben Mikha\n",
      "\n",
      "In life, we all have our own unique journeys but #nature has a way of b… https://t.co/nuL3Arbr8q Gift of a Garden by Sam Potter\n",
      "\n",
      "Gardens can give us so much. Not just plants, but wisdom too.\n",
      "\n",
      "Sam Potter shares th… https://t.co/ZgsLIQtz4l Close to Home, by @emmett_sparling, Ryan J Harris &amp; Hayden Kortemoore.\n",
      "\n",
      "Sometimes the answer is simple... When you… https://t.co/KA41BnooCg Beautiful Colombia by Matias De Rada.\n",
      "\n",
      "@Matias_derada returned to #Colombia to rediscover his roots, but the best d… https://t.co/065e9ynxji 🌴 @braybraywoowoo's trip to #Mauritius quickly became 70 days in lockdown abroad. \n",
      "\n",
      "While in the middle of paradise… https://t.co/yfja0SF358 Moving Closer by Giulia Woergartner.\n",
      "\n",
      "Returning to #SouthAfrica, @giuligartner ventured with friends into the unkno… https://t.co/zaXhMskUkd ‘Nonsuch falls’, a place doubted by locals to even exist. \n",
      "\n",
      "Henry Nathan explored the island of #Jamaica with Ian H… https://t.co/Wh8b1Wfu7m A Healing Nature by Josh Burkinshaw.⁣\n",
      "\n",
      "@BurkinshawJosh &amp; @MyTravelation return to the outdoors to rediscover the be… https://t.co/PTn03Per5c @RitaWilson Send us a message when you’re all clear and we can make it happen 🙂... in the meantime we can offer you… https://t.co/sIH6jPEdvK 🌊 @Nolanomura visited the island of Moorea with friends to discover first hand the efforts being made by the… https://t.co/Du8R8Fyvqz Dive Reflex by Emmett Sparling \n",
      "⁣⁣⁣⁣\n",
      "@emmett_sparling and friends tell the stories of what freediving means to them… https://t.co/hAzk6mJGk0 The story behind the incredible Dive Reflex video. \n",
      "⁣\n",
      "@emmett_sparling and friends travelled to the remote island o… https://t.co/lPOKU0uSqh The world beneath the waves. #ThisIsLiving https://t.co/IKwZQIbpIB The best hats are the ones you can share every journey with. #ThisIsLiving 📷: @morganmaassen https://t.co/8zfGwCKeUF Embracing all the ocean gives us. #ThisIsLiving 📷: @morganmaassen https://t.co/jL0iqHlFgz Appreciating gifts from the sky. #ThisIsLiving 📷: @morganmaassen https://t.co/mBc63nktv3 There are worse places to wait for a sunset. #ThisIsLiving 📷: @morganmaassen https://t.co/4oHbfc8MAQ Only pack the essentials. #ThisIsLiving 📷: @morganmaassen https://t.co/ddLkLTlWOG\n"
     ]
    }
   ],
   "source": [
    "def get_tweets(username): \n",
    "        consumer_key = \"YckR9KWOfs8hde4xaKLXeaCI3\"\n",
    "        consumer_secret = \"bV5iV8OEQR9Mcsa1rAK3AcG3ZpHBfSlb6q3P4ITKh94v2MmQim\"\n",
    "        access_key =\"1298541281388331008-D2fSHagOGM6h6mMhJnj5pXc9wGUIWg\"\n",
    "        access_secret = \"Y4VNRlczLo7l2IP3kez2kkaK05wr1JjXlJLQL6g2LCWms\"\n",
    "        # Authorization to consumer key and consumer secret \n",
    "        auth = tweepy.OAuthHandler(consumer_key, consumer_secret) \n",
    "  \n",
    "        # Access to user's access key and access secret \n",
    "        auth.set_access_token(access_key, access_secret) \n",
    "  \n",
    "        # Calling api \n",
    "        api = tweepy.API(auth) \n",
    "  \n",
    "        # 200 tweets to be extracted \n",
    "        number_of_tweets=10\n",
    "        tweets = api.user_timeline(screen_name=username) \n",
    "  \n",
    "        # Empty Array \n",
    "        tmp=[]  \n",
    "  \n",
    "        # create array of tweet information: username,  \n",
    "        \n",
    "        # tweet id, date/time, text\n",
    "        tweets_for_csv = [tweet.text for tweet in tweets] # CSV file created  \n",
    "        for j in tweets_for_csv: \n",
    "  \n",
    "            # Appending tweets to the empty array tmp \n",
    "            tmp.append(j)  \n",
    "  \n",
    "        # Printing the tweets \n",
    "        print(*tmp)\n",
    "        '''\n",
    "        count=1\n",
    "        for tweet in tweepy.Cursor(api.search, q=hashtag_phrase+' -filter:retweets', \\\n",
    "                                   lang=\"en\", tweet_mode='extended').items(100):\n",
    "            person={\n",
    "            \"timestamp\":tweet.created_at,\n",
    "            'tweet_text':tweet.full_text.replace('\\n',' ').encode('utf-8'),\n",
    "            'username':tweet.user.screen_name.encode('utf-8')\n",
    "            }\n",
    "            count=count+1\n",
    "        with open(\"corona.json\",'w') as fp:\n",
    "            json .dump(person,fp)\n",
    "        '''\n",
    "  \n",
    "# Driver code \n",
    "if __name__ == '__main__': \n",
    "  \n",
    "    # Here goes the twitter handle for the user \n",
    "    # whose tweets are to be extracted. \n",
    "    get_tweets(\"corona\")  "
   ]
  },
  {
   "cell_type": "code",
   "execution_count": 50,
   "metadata": {},
   "outputs": [
    {
     "name": "stdout",
     "output_type": "stream",
     "text": [
      "Hashtag Phrase #corona\n"
     ]
    },
    {
     "ename": "Error",
     "evalue": "iterable expected, not datetime.datetime",
     "output_type": "error",
     "traceback": [
      "\u001b[1;31m---------------------------------------------------------------------------\u001b[0m",
      "\u001b[1;31mError\u001b[0m                                     Traceback (most recent call last)",
      "\u001b[1;32m<ipython-input-50-4632b6d93988>\u001b[0m in \u001b[0;36m<module>\u001b[1;34m\u001b[0m\n\u001b[0;32m      7\u001b[0m \u001b[1;33m\u001b[0m\u001b[0m\n\u001b[0;32m      8\u001b[0m \u001b[1;32mif\u001b[0m \u001b[0m__name__\u001b[0m \u001b[1;33m==\u001b[0m \u001b[1;34m'__main__'\u001b[0m\u001b[1;33m:\u001b[0m\u001b[1;33m\u001b[0m\u001b[1;33m\u001b[0m\u001b[0m\n\u001b[1;32m----> 9\u001b[1;33m     \u001b[0msearch_for_hashtags\u001b[0m\u001b[1;33m(\u001b[0m\u001b[0mconsumer_key\u001b[0m\u001b[1;33m,\u001b[0m \u001b[0mconsumer_secret\u001b[0m\u001b[1;33m,\u001b[0m \u001b[0maccess_token\u001b[0m\u001b[1;33m,\u001b[0m \u001b[0maccess_token_secret\u001b[0m\u001b[1;33m,\u001b[0m \u001b[0mhashtag_phrase\u001b[0m\u001b[1;33m)\u001b[0m\u001b[1;33m\u001b[0m\u001b[1;33m\u001b[0m\u001b[0m\n\u001b[0m",
      "\u001b[1;32m<ipython-input-49-7ca7beb27d15>\u001b[0m in \u001b[0;36msearch_for_hashtags\u001b[1;34m(consumer_key, consumer_secret, access_token, access_token_secret, hashtag_phrase)\u001b[0m\n\u001b[0;32m     29\u001b[0m         \u001b[1;31m#for each tweet matching our hashtags, write relevant info to the spreadsheet\u001b[0m\u001b[1;33m\u001b[0m\u001b[1;33m\u001b[0m\u001b[1;33m\u001b[0m\u001b[0m\n\u001b[0;32m     30\u001b[0m         \u001b[1;32mfor\u001b[0m \u001b[0mtweet\u001b[0m \u001b[1;32min\u001b[0m \u001b[0mtweepy\u001b[0m\u001b[1;33m.\u001b[0m\u001b[0mCursor\u001b[0m\u001b[1;33m(\u001b[0m\u001b[0mapi\u001b[0m\u001b[1;33m.\u001b[0m\u001b[0msearch\u001b[0m\u001b[1;33m,\u001b[0m \u001b[0mq\u001b[0m\u001b[1;33m=\u001b[0m\u001b[0mhashtag_phrase\u001b[0m\u001b[1;33m+\u001b[0m\u001b[1;34m' -filter:retweets'\u001b[0m\u001b[1;33m,\u001b[0m\u001b[0mlang\u001b[0m\u001b[1;33m=\u001b[0m\u001b[1;34m\"en\"\u001b[0m\u001b[1;33m,\u001b[0m \u001b[0mtweet_mode\u001b[0m\u001b[1;33m=\u001b[0m\u001b[1;34m'extended'\u001b[0m\u001b[1;33m)\u001b[0m\u001b[1;33m.\u001b[0m\u001b[0mitems\u001b[0m\u001b[1;33m(\u001b[0m\u001b[1;36m100\u001b[0m\u001b[1;33m)\u001b[0m\u001b[1;33m:\u001b[0m\u001b[1;33m\u001b[0m\u001b[1;33m\u001b[0m\u001b[0m\n\u001b[1;32m---> 31\u001b[1;33m             \u001b[0mw\u001b[0m\u001b[1;33m.\u001b[0m\u001b[0mwriterows\u001b[0m\u001b[1;33m(\u001b[0m\u001b[1;33m[\u001b[0m\u001b[0mtweet\u001b[0m\u001b[1;33m.\u001b[0m\u001b[0mcreated_at\u001b[0m\u001b[1;33m,\u001b[0m \u001b[0mtweet\u001b[0m\u001b[1;33m.\u001b[0m\u001b[0mfull_text\u001b[0m\u001b[1;33m.\u001b[0m\u001b[0mreplace\u001b[0m\u001b[1;33m(\u001b[0m\u001b[1;34m'\\n'\u001b[0m\u001b[1;33m,\u001b[0m\u001b[1;34m' '\u001b[0m\u001b[1;33m)\u001b[0m\u001b[1;33m.\u001b[0m\u001b[0mencode\u001b[0m\u001b[1;33m(\u001b[0m\u001b[1;34m'utf-8'\u001b[0m\u001b[1;33m)\u001b[0m\u001b[1;33m,\u001b[0m \u001b[0mtweet\u001b[0m\u001b[1;33m.\u001b[0m\u001b[0muser\u001b[0m\u001b[1;33m.\u001b[0m\u001b[0mscreen_name\u001b[0m\u001b[1;33m.\u001b[0m\u001b[0mencode\u001b[0m\u001b[1;33m(\u001b[0m\u001b[1;34m'utf-8'\u001b[0m\u001b[1;33m)\u001b[0m\u001b[1;33m,\u001b[0m \u001b[1;33m[\u001b[0m\u001b[0me\u001b[0m\u001b[1;33m[\u001b[0m\u001b[1;34m'text'\u001b[0m\u001b[1;33m]\u001b[0m \u001b[1;32mfor\u001b[0m \u001b[0me\u001b[0m \u001b[1;32min\u001b[0m \u001b[0mtweet\u001b[0m\u001b[1;33m.\u001b[0m\u001b[0m_json\u001b[0m\u001b[1;33m[\u001b[0m\u001b[1;34m'entities'\u001b[0m\u001b[1;33m]\u001b[0m\u001b[1;33m[\u001b[0m\u001b[1;34m'hashtags'\u001b[0m\u001b[1;33m]\u001b[0m\u001b[1;33m]\u001b[0m\u001b[1;33m,\u001b[0m \u001b[0mtweet\u001b[0m\u001b[1;33m.\u001b[0m\u001b[0muser\u001b[0m\u001b[1;33m.\u001b[0m\u001b[0mfollowers_count\u001b[0m\u001b[1;33m]\u001b[0m\u001b[1;33m)\u001b[0m\u001b[1;33m\u001b[0m\u001b[1;33m\u001b[0m\u001b[0m\n\u001b[0m",
      "\u001b[1;31mError\u001b[0m: iterable expected, not datetime.datetime"
     ]
    }
   ],
   "source": [
    "\n",
    "    \n",
    "hashtag_phrase = input('Hashtag Phrase ')\n",
    "\n",
    "if __name__ == '__main__':\n",
    "    search_for_hashtags(consumer_key, consumer_secret, access_token, access_token_secret, hashtag_phrase)"
   ]
  },
  {
   "cell_type": "code",
   "execution_count": null,
   "metadata": {},
   "outputs": [],
   "source": []
  }
 ],
 "metadata": {
  "kernelspec": {
   "display_name": "Python 3",
   "language": "python",
   "name": "python3"
  },
  "language_info": {
   "codemirror_mode": {
    "name": "ipython",
    "version": 3
   },
   "file_extension": ".py",
   "mimetype": "text/x-python",
   "name": "python",
   "nbconvert_exporter": "python",
   "pygments_lexer": "ipython3",
   "version": "3.8.1"
  }
 },
 "nbformat": 4,
 "nbformat_minor": 4
}
