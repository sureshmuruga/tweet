{
 "cells": [
  {
   "cell_type": "code",
   "execution_count": 25,
   "metadata": {},
   "outputs": [
    {
     "name": "stdout",
     "output_type": "stream",
     "text": [
      "Requirement already satisfied: pandas in c:\\users\\murali dharan\\.virtualenvs\\top_10-qad91zh8\\lib\\site-packages (1.1.1)\n",
      "Requirement already satisfied: pytz>=2017.2 in c:\\users\\murali dharan\\.virtualenvs\\top_10-qad91zh8\\lib\\site-packages (from pandas) (2020.1)\n",
      "Requirement already satisfied: numpy>=1.15.4 in c:\\users\\murali dharan\\.virtualenvs\\top_10-qad91zh8\\lib\\site-packages (from pandas) (1.19.1)\n",
      "Requirement already satisfied: python-dateutil>=2.7.3 in c:\\users\\murali dharan\\.virtualenvs\\top_10-qad91zh8\\lib\\site-packages (from pandas) (2.8.1)\n",
      "Requirement already satisfied: six>=1.5 in c:\\users\\murali dharan\\.virtualenvs\\top_10-qad91zh8\\lib\\site-packages (from python-dateutil>=2.7.3->pandas) (1.15.0)\n"
     ]
    }
   ],
   "source": [
    "#!pip install pandas"
   ]
  },
  {
   "cell_type": "code",
   "execution_count": 1,
   "metadata": {},
   "outputs": [
    {
     "ename": "ModuleNotFoundError",
     "evalue": "No module named 'pandas'",
     "output_type": "error",
     "traceback": [
      "\u001b[1;31m---------------------------------------------------------------------------\u001b[0m",
      "\u001b[1;31mModuleNotFoundError\u001b[0m                       Traceback (most recent call last)",
      "\u001b[1;32m<ipython-input-1-869a1bdcf70e>\u001b[0m in \u001b[0;36m<module>\u001b[1;34m\u001b[0m\n\u001b[0;32m      2\u001b[0m \u001b[1;32mimport\u001b[0m \u001b[0mwebbrowser\u001b[0m\u001b[1;33m\u001b[0m\u001b[1;33m\u001b[0m\u001b[0m\n\u001b[0;32m      3\u001b[0m \u001b[1;32mimport\u001b[0m \u001b[0mtime\u001b[0m\u001b[1;33m\u001b[0m\u001b[1;33m\u001b[0m\u001b[0m\n\u001b[1;32m----> 4\u001b[1;33m \u001b[1;32mimport\u001b[0m \u001b[0mpandas\u001b[0m \u001b[1;32mas\u001b[0m \u001b[0mpd\u001b[0m\u001b[1;33m\u001b[0m\u001b[1;33m\u001b[0m\u001b[0m\n\u001b[0m",
      "\u001b[1;31mModuleNotFoundError\u001b[0m: No module named 'pandas'"
     ]
    }
   ],
   "source": [
    "import tweepy\n",
    "import webbrowser\n",
    "import time\n",
    "import pandas as pd"
   ]
  },
  {
   "cell_type": "code",
   "execution_count": 2,
   "metadata": {},
   "outputs": [],
   "source": [
    "consumer_key=\"YckR9KWOfs8hde4xaKLXeaCI3\"\n",
    "consumer_secret=\"bV5iV8OEQR9Mcsa1rAK3AcG3ZpHBfSlb6q3P4ITKh94v2MmQim\""
   ]
  },
  {
   "cell_type": "code",
   "execution_count": 3,
   "metadata": {},
   "outputs": [],
   "source": [
    "callback_uri='oob'"
   ]
  },
  {
   "cell_type": "code",
   "execution_count": 5,
   "metadata": {},
   "outputs": [
    {
     "name": "stdout",
     "output_type": "stream",
     "text": [
      "https://api.twitter.com/oauth/authorize?oauth_token=drAGjgAAAAABHG0qAAABdCqPYUs\n"
     ]
    }
   ],
   "source": [
    "auth=tweepy.OAuthHandler(consumer_key, consumer_secret, callback_uri)\n",
    "redirect_url=auth.get_authorization_url()\n",
    "print(redirect_url)"
   ]
  },
  {
   "cell_type": "code",
   "execution_count": 6,
   "metadata": {},
   "outputs": [
    {
     "data": {
      "text/plain": [
       "True"
      ]
     },
     "execution_count": 6,
     "metadata": {},
     "output_type": "execute_result"
    }
   ],
   "source": [
    "webbrowser.open(redirect_url)"
   ]
  },
  {
   "cell_type": "code",
   "execution_count": 7,
   "metadata": {},
   "outputs": [
    {
     "name": "stdout",
     "output_type": "stream",
     "text": [
      "What the pin value? 0549830\n"
     ]
    }
   ],
   "source": [
    "user_pint_input = input(\"What the pin value? \")\n"
   ]
  },
  {
   "cell_type": "code",
   "execution_count": 8,
   "metadata": {},
   "outputs": [
    {
     "data": {
      "text/plain": [
       "'0549830'"
      ]
     },
     "execution_count": 8,
     "metadata": {},
     "output_type": "execute_result"
    }
   ],
   "source": [
    "user_pint_input\n"
   ]
  },
  {
   "cell_type": "code",
   "execution_count": 9,
   "metadata": {},
   "outputs": [
    {
     "data": {
      "text/plain": [
       "('1298541281388331008-IOkXLXPqBcG19MsT6cR6WhWSmQvqyg',\n",
       " 'abyFSrJ6tDjMXqrnJqpcDOIy2sVy3e5Khdr4ibi5vNBFt')"
      ]
     },
     "execution_count": 9,
     "metadata": {},
     "output_type": "execute_result"
    }
   ],
   "source": [
    "auth.get_access_token(user_pint_input)"
   ]
  },
  {
   "cell_type": "code",
   "execution_count": 10,
   "metadata": {},
   "outputs": [
    {
     "name": "stdout",
     "output_type": "stream",
     "text": [
      "1298541281388331008-IOkXLXPqBcG19MsT6cR6WhWSmQvqyg abyFSrJ6tDjMXqrnJqpcDOIy2sVy3e5Khdr4ibi5vNBFt\n"
     ]
    }
   ],
   "source": [
    "print(auth.access_token,auth.access_token_secret)"
   ]
  },
  {
   "cell_type": "code",
   "execution_count": 11,
   "metadata": {},
   "outputs": [],
   "source": [
    "api = tweepy.API(auth)"
   ]
  },
  {
   "cell_type": "code",
   "execution_count": 12,
   "metadata": {},
   "outputs": [
    {
     "name": "stdout",
     "output_type": "stream",
     "text": [
      "Sureshk10998816\n"
     ]
    }
   ],
   "source": [
    "me = api.me()\n",
    "print(me.screen_name)"
   ]
  },
  {
   "cell_type": "code",
   "execution_count": 13,
   "metadata": {},
   "outputs": [],
   "source": [
    "my_timeline=api.home_timeline()\n",
    "#print(my_timeline)"
   ]
  },
  {
   "cell_type": "code",
   "execution_count": 21,
   "metadata": {},
   "outputs": [
    {
     "name": "stdout",
     "output_type": "stream",
     "text": [
      "https://twitter.com/code/status/12983808896894115861297618359853383681\n"
     ]
    }
   ],
   "source": [
    "user = api.get_user(\"code\")\n",
    "user_timeline= user.timeline()\n",
    "user_timeline_status_obj=user_timeline[0]\n",
    "status_obj_id=user_timeline_status_obj.id\n",
    "status_obj_screen_name=user_timeline_status_obj.user.screen_name\n",
    "status_obj_url=f\"https://twitter.com/{status_obj_screen_name}/status/{status_obj_id}1297618359853383681\"\n",
    "print(status_obj_url)\n"
   ]
  },
  {
   "cell_type": "code",
   "execution_count": 17,
   "metadata": {},
   "outputs": [
    {
     "data": {
      "text/plain": [
       "\"Today's @code command: Git: Rename Branch\\n\\nUse the 'Git: Rename Branch' command to rename the current #git branch… https://t.co/StylIfrTET\""
      ]
     },
     "execution_count": 17,
     "metadata": {},
     "output_type": "execute_result"
    }
   ],
   "source": [
    "status_obj= api.get_status(\"1297618359853383681\")\n",
    "status_obj.text"
   ]
  },
  {
   "cell_type": "code",
   "execution_count": 22,
   "metadata": {},
   "outputs": [
    {
     "data": {
      "text/plain": [
       "Status(_api=<tweepy.api.API object at 0x0592BD48>, _json={'created_at': 'Wed Aug 26 12:01:46 +0000 2020', 'id': 1298591465883308032, 'id_str': '1298591465883308032', 'text': \"RT @mattbierner: Today's @code command: Git: Rename Branch\\n\\nUse the 'Git: Rename Branch' command to rename the current #git branch\\n\\nI have…\", 'truncated': False, 'entities': {'hashtags': [{'text': 'git', 'indices': [119, 123]}], 'symbols': [], 'user_mentions': [{'screen_name': 'mattbierner', 'name': 'Matt Bierner', 'id': 21815152, 'id_str': '21815152', 'indices': [3, 15]}, {'screen_name': 'code', 'name': 'Visual Studio Code', 'id': 3167734591, 'id_str': '3167734591', 'indices': [25, 30]}], 'urls': []}, 'source': '', 'in_reply_to_status_id': None, 'in_reply_to_status_id_str': None, 'in_reply_to_user_id': None, 'in_reply_to_user_id_str': None, 'in_reply_to_screen_name': None, 'user': {'id': 1298541281388331008, 'id_str': '1298541281388331008', 'name': 'Sureshkumar M', 'screen_name': 'Sureshk10998816', 'location': '', 'description': '', 'url': None, 'entities': {'description': {'urls': []}}, 'protected': False, 'followers_count': 0, 'friends_count': 0, 'listed_count': 0, 'created_at': 'Wed Aug 26 08:43:59 +0000 2020', 'favourites_count': 0, 'utc_offset': None, 'time_zone': None, 'geo_enabled': False, 'verified': False, 'statuses_count': 1, 'lang': None, 'contributors_enabled': False, 'is_translator': False, 'is_translation_enabled': False, 'profile_background_color': 'F5F8FA', 'profile_background_image_url': None, 'profile_background_image_url_https': None, 'profile_background_tile': False, 'profile_image_url': 'http://abs.twimg.com/sticky/default_profile_images/default_profile_normal.png', 'profile_image_url_https': 'https://abs.twimg.com/sticky/default_profile_images/default_profile_normal.png', 'profile_link_color': '1DA1F2', 'profile_sidebar_border_color': 'C0DEED', 'profile_sidebar_fill_color': 'DDEEF6', 'profile_text_color': '333333', 'profile_use_background_image': True, 'has_extended_profile': True, 'default_profile': True, 'default_profile_image': True, 'following': False, 'follow_request_sent': False, 'notifications': False, 'translator_type': 'none'}, 'geo': None, 'coordinates': None, 'place': None, 'contributors': None, 'retweeted_status': {'created_at': 'Sun Aug 23 19:35:00 +0000 2020', 'id': 1297618359853383681, 'id_str': '1297618359853383681', 'text': \"Today's @code command: Git: Rename Branch\\n\\nUse the 'Git: Rename Branch' command to rename the current #git branch… https://t.co/StylIfrTET\", 'truncated': True, 'entities': {'hashtags': [{'text': 'git', 'indices': [102, 106]}], 'symbols': [], 'user_mentions': [{'screen_name': 'code', 'name': 'Visual Studio Code', 'id': 3167734591, 'id_str': '3167734591', 'indices': [8, 13]}], 'urls': [{'url': 'https://t.co/StylIfrTET', 'expanded_url': 'https://twitter.com/i/web/status/1297618359853383681', 'display_url': 'twitter.com/i/web/status/1…', 'indices': [115, 138]}]}, 'source': '<a href=\"https://about.twitter.com/products/tweetdeck\" rel=\"nofollow\">TweetDeck</a>', 'in_reply_to_status_id': None, 'in_reply_to_status_id_str': None, 'in_reply_to_user_id': None, 'in_reply_to_user_id_str': None, 'in_reply_to_screen_name': None, 'user': {'id': 21815152, 'id_str': '21815152', 'name': 'Matt Bierner', 'screen_name': 'mattbierner', 'location': 'Washington, USA', 'description': '', 'url': 'https://t.co/NnCC3iFhHa', 'entities': {'url': {'urls': [{'url': 'https://t.co/NnCC3iFhHa', 'expanded_url': 'https://blog.mattbierner.com', 'display_url': 'blog.mattbierner.com', 'indices': [0, 23]}]}, 'description': {'urls': []}}, 'protected': False, 'followers_count': 6325, 'friends_count': 59, 'listed_count': 105, 'created_at': 'Wed Feb 25 00:05:13 +0000 2009', 'favourites_count': 213, 'utc_offset': None, 'time_zone': None, 'geo_enabled': False, 'verified': False, 'statuses_count': 2083, 'lang': None, 'contributors_enabled': False, 'is_translator': False, 'is_translation_enabled': False, 'profile_background_color': '000000', 'profile_background_image_url': 'http://abs.twimg.com/images/themes/theme1/bg.png', 'profile_background_image_url_https': 'https://abs.twimg.com/images/themes/theme1/bg.png', 'profile_background_tile': False, 'profile_image_url': 'http://pbs.twimg.com/profile_images/796977891900682240/7C9D7Olt_normal.jpg', 'profile_image_url_https': 'https://pbs.twimg.com/profile_images/796977891900682240/7C9D7Olt_normal.jpg', 'profile_banner_url': 'https://pbs.twimg.com/profile_banners/21815152/1498934216', 'profile_link_color': 'ABB8C2', 'profile_sidebar_border_color': '000000', 'profile_sidebar_fill_color': '000000', 'profile_text_color': '000000', 'profile_use_background_image': False, 'has_extended_profile': False, 'default_profile': False, 'default_profile_image': False, 'following': False, 'follow_request_sent': False, 'notifications': False, 'translator_type': 'none'}, 'geo': None, 'coordinates': None, 'place': None, 'contributors': None, 'is_quote_status': False, 'retweet_count': 36, 'favorite_count': 156, 'favorited': False, 'retweeted': True, 'possibly_sensitive': False, 'lang': 'en'}, 'is_quote_status': False, 'retweet_count': 36, 'favorite_count': 0, 'favorited': False, 'retweeted': True, 'lang': 'en'}, created_at=datetime.datetime(2020, 8, 26, 12, 1, 46), id=1298591465883308032, id_str='1298591465883308032', text=\"RT @mattbierner: Today's @code command: Git: Rename Branch\\n\\nUse the 'Git: Rename Branch' command to rename the current #git branch\\n\\nI have…\", truncated=False, entities={'hashtags': [{'text': 'git', 'indices': [119, 123]}], 'symbols': [], 'user_mentions': [{'screen_name': 'mattbierner', 'name': 'Matt Bierner', 'id': 21815152, 'id_str': '21815152', 'indices': [3, 15]}, {'screen_name': 'code', 'name': 'Visual Studio Code', 'id': 3167734591, 'id_str': '3167734591', 'indices': [25, 30]}], 'urls': []}, source='', source_url=None, in_reply_to_status_id=None, in_reply_to_status_id_str=None, in_reply_to_user_id=None, in_reply_to_user_id_str=None, in_reply_to_screen_name=None, author=User(_api=<tweepy.api.API object at 0x0592BD48>, _json={'id': 1298541281388331008, 'id_str': '1298541281388331008', 'name': 'Sureshkumar M', 'screen_name': 'Sureshk10998816', 'location': '', 'description': '', 'url': None, 'entities': {'description': {'urls': []}}, 'protected': False, 'followers_count': 0, 'friends_count': 0, 'listed_count': 0, 'created_at': 'Wed Aug 26 08:43:59 +0000 2020', 'favourites_count': 0, 'utc_offset': None, 'time_zone': None, 'geo_enabled': False, 'verified': False, 'statuses_count': 1, 'lang': None, 'contributors_enabled': False, 'is_translator': False, 'is_translation_enabled': False, 'profile_background_color': 'F5F8FA', 'profile_background_image_url': None, 'profile_background_image_url_https': None, 'profile_background_tile': False, 'profile_image_url': 'http://abs.twimg.com/sticky/default_profile_images/default_profile_normal.png', 'profile_image_url_https': 'https://abs.twimg.com/sticky/default_profile_images/default_profile_normal.png', 'profile_link_color': '1DA1F2', 'profile_sidebar_border_color': 'C0DEED', 'profile_sidebar_fill_color': 'DDEEF6', 'profile_text_color': '333333', 'profile_use_background_image': True, 'has_extended_profile': True, 'default_profile': True, 'default_profile_image': True, 'following': False, 'follow_request_sent': False, 'notifications': False, 'translator_type': 'none'}, id=1298541281388331008, id_str='1298541281388331008', name='Sureshkumar M', screen_name='Sureshk10998816', location='', description='', url=None, entities={'description': {'urls': []}}, protected=False, followers_count=0, friends_count=0, listed_count=0, created_at=datetime.datetime(2020, 8, 26, 8, 43, 59), favourites_count=0, utc_offset=None, time_zone=None, geo_enabled=False, verified=False, statuses_count=1, lang=None, contributors_enabled=False, is_translator=False, is_translation_enabled=False, profile_background_color='F5F8FA', profile_background_image_url=None, profile_background_image_url_https=None, profile_background_tile=False, profile_image_url='http://abs.twimg.com/sticky/default_profile_images/default_profile_normal.png', profile_image_url_https='https://abs.twimg.com/sticky/default_profile_images/default_profile_normal.png', profile_link_color='1DA1F2', profile_sidebar_border_color='C0DEED', profile_sidebar_fill_color='DDEEF6', profile_text_color='333333', profile_use_background_image=True, has_extended_profile=True, default_profile=True, default_profile_image=True, following=False, follow_request_sent=False, notifications=False, translator_type='none'), user=User(_api=<tweepy.api.API object at 0x0592BD48>, _json={'id': 1298541281388331008, 'id_str': '1298541281388331008', 'name': 'Sureshkumar M', 'screen_name': 'Sureshk10998816', 'location': '', 'description': '', 'url': None, 'entities': {'description': {'urls': []}}, 'protected': False, 'followers_count': 0, 'friends_count': 0, 'listed_count': 0, 'created_at': 'Wed Aug 26 08:43:59 +0000 2020', 'favourites_count': 0, 'utc_offset': None, 'time_zone': None, 'geo_enabled': False, 'verified': False, 'statuses_count': 1, 'lang': None, 'contributors_enabled': False, 'is_translator': False, 'is_translation_enabled': False, 'profile_background_color': 'F5F8FA', 'profile_background_image_url': None, 'profile_background_image_url_https': None, 'profile_background_tile': False, 'profile_image_url': 'http://abs.twimg.com/sticky/default_profile_images/default_profile_normal.png', 'profile_image_url_https': 'https://abs.twimg.com/sticky/default_profile_images/default_profile_normal.png', 'profile_link_color': '1DA1F2', 'profile_sidebar_border_color': 'C0DEED', 'profile_sidebar_fill_color': 'DDEEF6', 'profile_text_color': '333333', 'profile_use_background_image': True, 'has_extended_profile': True, 'default_profile': True, 'default_profile_image': True, 'following': False, 'follow_request_sent': False, 'notifications': False, 'translator_type': 'none'}, id=1298541281388331008, id_str='1298541281388331008', name='Sureshkumar M', screen_name='Sureshk10998816', location='', description='', url=None, entities={'description': {'urls': []}}, protected=False, followers_count=0, friends_count=0, listed_count=0, created_at=datetime.datetime(2020, 8, 26, 8, 43, 59), favourites_count=0, utc_offset=None, time_zone=None, geo_enabled=False, verified=False, statuses_count=1, lang=None, contributors_enabled=False, is_translator=False, is_translation_enabled=False, profile_background_color='F5F8FA', profile_background_image_url=None, profile_background_image_url_https=None, profile_background_tile=False, profile_image_url='http://abs.twimg.com/sticky/default_profile_images/default_profile_normal.png', profile_image_url_https='https://abs.twimg.com/sticky/default_profile_images/default_profile_normal.png', profile_link_color='1DA1F2', profile_sidebar_border_color='C0DEED', profile_sidebar_fill_color='DDEEF6', profile_text_color='333333', profile_use_background_image=True, has_extended_profile=True, default_profile=True, default_profile_image=True, following=False, follow_request_sent=False, notifications=False, translator_type='none'), geo=None, coordinates=None, place=None, contributors=None, retweeted_status=Status(_api=<tweepy.api.API object at 0x0592BD48>, _json={'created_at': 'Sun Aug 23 19:35:00 +0000 2020', 'id': 1297618359853383681, 'id_str': '1297618359853383681', 'text': \"Today's @code command: Git: Rename Branch\\n\\nUse the 'Git: Rename Branch' command to rename the current #git branch… https://t.co/StylIfrTET\", 'truncated': True, 'entities': {'hashtags': [{'text': 'git', 'indices': [102, 106]}], 'symbols': [], 'user_mentions': [{'screen_name': 'code', 'name': 'Visual Studio Code', 'id': 3167734591, 'id_str': '3167734591', 'indices': [8, 13]}], 'urls': [{'url': 'https://t.co/StylIfrTET', 'expanded_url': 'https://twitter.com/i/web/status/1297618359853383681', 'display_url': 'twitter.com/i/web/status/1…', 'indices': [115, 138]}]}, 'source': '<a href=\"https://about.twitter.com/products/tweetdeck\" rel=\"nofollow\">TweetDeck</a>', 'in_reply_to_status_id': None, 'in_reply_to_status_id_str': None, 'in_reply_to_user_id': None, 'in_reply_to_user_id_str': None, 'in_reply_to_screen_name': None, 'user': {'id': 21815152, 'id_str': '21815152', 'name': 'Matt Bierner', 'screen_name': 'mattbierner', 'location': 'Washington, USA', 'description': '', 'url': 'https://t.co/NnCC3iFhHa', 'entities': {'url': {'urls': [{'url': 'https://t.co/NnCC3iFhHa', 'expanded_url': 'https://blog.mattbierner.com', 'display_url': 'blog.mattbierner.com', 'indices': [0, 23]}]}, 'description': {'urls': []}}, 'protected': False, 'followers_count': 6325, 'friends_count': 59, 'listed_count': 105, 'created_at': 'Wed Feb 25 00:05:13 +0000 2009', 'favourites_count': 213, 'utc_offset': None, 'time_zone': None, 'geo_enabled': False, 'verified': False, 'statuses_count': 2083, 'lang': None, 'contributors_enabled': False, 'is_translator': False, 'is_translation_enabled': False, 'profile_background_color': '000000', 'profile_background_image_url': 'http://abs.twimg.com/images/themes/theme1/bg.png', 'profile_background_image_url_https': 'https://abs.twimg.com/images/themes/theme1/bg.png', 'profile_background_tile': False, 'profile_image_url': 'http://pbs.twimg.com/profile_images/796977891900682240/7C9D7Olt_normal.jpg', 'profile_image_url_https': 'https://pbs.twimg.com/profile_images/796977891900682240/7C9D7Olt_normal.jpg', 'profile_banner_url': 'https://pbs.twimg.com/profile_banners/21815152/1498934216', 'profile_link_color': 'ABB8C2', 'profile_sidebar_border_color': '000000', 'profile_sidebar_fill_color': '000000', 'profile_text_color': '000000', 'profile_use_background_image': False, 'has_extended_profile': False, 'default_profile': False, 'default_profile_image': False, 'following': False, 'follow_request_sent': False, 'notifications': False, 'translator_type': 'none'}, 'geo': None, 'coordinates': None, 'place': None, 'contributors': None, 'is_quote_status': False, 'retweet_count': 36, 'favorite_count': 156, 'favorited': False, 'retweeted': True, 'possibly_sensitive': False, 'lang': 'en'}, created_at=datetime.datetime(2020, 8, 23, 19, 35), id=1297618359853383681, id_str='1297618359853383681', text=\"Today's @code command: Git: Rename Branch\\n\\nUse the 'Git: Rename Branch' command to rename the current #git branch… https://t.co/StylIfrTET\", truncated=True, entities={'hashtags': [{'text': 'git', 'indices': [102, 106]}], 'symbols': [], 'user_mentions': [{'screen_name': 'code', 'name': 'Visual Studio Code', 'id': 3167734591, 'id_str': '3167734591', 'indices': [8, 13]}], 'urls': [{'url': 'https://t.co/StylIfrTET', 'expanded_url': 'https://twitter.com/i/web/status/1297618359853383681', 'display_url': 'twitter.com/i/web/status/1…', 'indices': [115, 138]}]}, source='TweetDeck', source_url='https://about.twitter.com/products/tweetdeck', in_reply_to_status_id=None, in_reply_to_status_id_str=None, in_reply_to_user_id=None, in_reply_to_user_id_str=None, in_reply_to_screen_name=None, author=User(_api=<tweepy.api.API object at 0x0592BD48>, _json={'id': 21815152, 'id_str': '21815152', 'name': 'Matt Bierner', 'screen_name': 'mattbierner', 'location': 'Washington, USA', 'description': '', 'url': 'https://t.co/NnCC3iFhHa', 'entities': {'url': {'urls': [{'url': 'https://t.co/NnCC3iFhHa', 'expanded_url': 'https://blog.mattbierner.com', 'display_url': 'blog.mattbierner.com', 'indices': [0, 23]}]}, 'description': {'urls': []}}, 'protected': False, 'followers_count': 6325, 'friends_count': 59, 'listed_count': 105, 'created_at': 'Wed Feb 25 00:05:13 +0000 2009', 'favourites_count': 213, 'utc_offset': None, 'time_zone': None, 'geo_enabled': False, 'verified': False, 'statuses_count': 2083, 'lang': None, 'contributors_enabled': False, 'is_translator': False, 'is_translation_enabled': False, 'profile_background_color': '000000', 'profile_background_image_url': 'http://abs.twimg.com/images/themes/theme1/bg.png', 'profile_background_image_url_https': 'https://abs.twimg.com/images/themes/theme1/bg.png', 'profile_background_tile': False, 'profile_image_url': 'http://pbs.twimg.com/profile_images/796977891900682240/7C9D7Olt_normal.jpg', 'profile_image_url_https': 'https://pbs.twimg.com/profile_images/796977891900682240/7C9D7Olt_normal.jpg', 'profile_banner_url': 'https://pbs.twimg.com/profile_banners/21815152/1498934216', 'profile_link_color': 'ABB8C2', 'profile_sidebar_border_color': '000000', 'profile_sidebar_fill_color': '000000', 'profile_text_color': '000000', 'profile_use_background_image': False, 'has_extended_profile': False, 'default_profile': False, 'default_profile_image': False, 'following': False, 'follow_request_sent': False, 'notifications': False, 'translator_type': 'none'}, id=21815152, id_str='21815152', name='Matt Bierner', screen_name='mattbierner', location='Washington, USA', description='', url='https://t.co/NnCC3iFhHa', entities={'url': {'urls': [{'url': 'https://t.co/NnCC3iFhHa', 'expanded_url': 'https://blog.mattbierner.com', 'display_url': 'blog.mattbierner.com', 'indices': [0, 23]}]}, 'description': {'urls': []}}, protected=False, followers_count=6325, friends_count=59, listed_count=105, created_at=datetime.datetime(2009, 2, 25, 0, 5, 13), favourites_count=213, utc_offset=None, time_zone=None, geo_enabled=False, verified=False, statuses_count=2083, lang=None, contributors_enabled=False, is_translator=False, is_translation_enabled=False, profile_background_color='000000', profile_background_image_url='http://abs.twimg.com/images/themes/theme1/bg.png', profile_background_image_url_https='https://abs.twimg.com/images/themes/theme1/bg.png', profile_background_tile=False, profile_image_url='http://pbs.twimg.com/profile_images/796977891900682240/7C9D7Olt_normal.jpg', profile_image_url_https='https://pbs.twimg.com/profile_images/796977891900682240/7C9D7Olt_normal.jpg', profile_banner_url='https://pbs.twimg.com/profile_banners/21815152/1498934216', profile_link_color='ABB8C2', profile_sidebar_border_color='000000', profile_sidebar_fill_color='000000', profile_text_color='000000', profile_use_background_image=False, has_extended_profile=False, default_profile=False, default_profile_image=False, following=False, follow_request_sent=False, notifications=False, translator_type='none'), user=User(_api=<tweepy.api.API object at 0x0592BD48>, _json={'id': 21815152, 'id_str': '21815152', 'name': 'Matt Bierner', 'screen_name': 'mattbierner', 'location': 'Washington, USA', 'description': '', 'url': 'https://t.co/NnCC3iFhHa', 'entities': {'url': {'urls': [{'url': 'https://t.co/NnCC3iFhHa', 'expanded_url': 'https://blog.mattbierner.com', 'display_url': 'blog.mattbierner.com', 'indices': [0, 23]}]}, 'description': {'urls': []}}, 'protected': False, 'followers_count': 6325, 'friends_count': 59, 'listed_count': 105, 'created_at': 'Wed Feb 25 00:05:13 +0000 2009', 'favourites_count': 213, 'utc_offset': None, 'time_zone': None, 'geo_enabled': False, 'verified': False, 'statuses_count': 2083, 'lang': None, 'contributors_enabled': False, 'is_translator': False, 'is_translation_enabled': False, 'profile_background_color': '000000', 'profile_background_image_url': 'http://abs.twimg.com/images/themes/theme1/bg.png', 'profile_background_image_url_https': 'https://abs.twimg.com/images/themes/theme1/bg.png', 'profile_background_tile': False, 'profile_image_url': 'http://pbs.twimg.com/profile_images/796977891900682240/7C9D7Olt_normal.jpg', 'profile_image_url_https': 'https://pbs.twimg.com/profile_images/796977891900682240/7C9D7Olt_normal.jpg', 'profile_banner_url': 'https://pbs.twimg.com/profile_banners/21815152/1498934216', 'profile_link_color': 'ABB8C2', 'profile_sidebar_border_color': '000000', 'profile_sidebar_fill_color': '000000', 'profile_text_color': '000000', 'profile_use_background_image': False, 'has_extended_profile': False, 'default_profile': False, 'default_profile_image': False, 'following': False, 'follow_request_sent': False, 'notifications': False, 'translator_type': 'none'}, id=21815152, id_str='21815152', name='Matt Bierner', screen_name='mattbierner', location='Washington, USA', description='', url='https://t.co/NnCC3iFhHa', entities={'url': {'urls': [{'url': 'https://t.co/NnCC3iFhHa', 'expanded_url': 'https://blog.mattbierner.com', 'display_url': 'blog.mattbierner.com', 'indices': [0, 23]}]}, 'description': {'urls': []}}, protected=False, followers_count=6325, friends_count=59, listed_count=105, created_at=datetime.datetime(2009, 2, 25, 0, 5, 13), favourites_count=213, utc_offset=None, time_zone=None, geo_enabled=False, verified=False, statuses_count=2083, lang=None, contributors_enabled=False, is_translator=False, is_translation_enabled=False, profile_background_color='000000', profile_background_image_url='http://abs.twimg.com/images/themes/theme1/bg.png', profile_background_image_url_https='https://abs.twimg.com/images/themes/theme1/bg.png', profile_background_tile=False, profile_image_url='http://pbs.twimg.com/profile_images/796977891900682240/7C9D7Olt_normal.jpg', profile_image_url_https='https://pbs.twimg.com/profile_images/796977891900682240/7C9D7Olt_normal.jpg', profile_banner_url='https://pbs.twimg.com/profile_banners/21815152/1498934216', profile_link_color='ABB8C2', profile_sidebar_border_color='000000', profile_sidebar_fill_color='000000', profile_text_color='000000', profile_use_background_image=False, has_extended_profile=False, default_profile=False, default_profile_image=False, following=False, follow_request_sent=False, notifications=False, translator_type='none'), geo=None, coordinates=None, place=None, contributors=None, is_quote_status=False, retweet_count=36, favorite_count=156, favorited=False, retweeted=True, possibly_sensitive=False, lang='en'), is_quote_status=False, retweet_count=36, favorite_count=0, favorited=False, retweeted=True, lang='en')"
      ]
     },
     "execution_count": 22,
     "metadata": {},
     "output_type": "execute_result"
    }
   ],
   "source": [
    "api.retweet(status_obj_id)"
   ]
  },
  {
   "cell_type": "code",
   "execution_count": 16,
   "metadata": {},
   "outputs": [],
   "source": []
  },
  {
   "cell_type": "code",
   "execution_count": 22,
   "metadata": {},
   "outputs": [
    {
     "data": {
      "text/plain": [
       "['__class__',\n",
       " '__delattr__',\n",
       " '__dict__',\n",
       " '__dir__',\n",
       " '__doc__',\n",
       " '__eq__',\n",
       " '__format__',\n",
       " '__ge__',\n",
       " '__getattribute__',\n",
       " '__getstate__',\n",
       " '__gt__',\n",
       " '__hash__',\n",
       " '__init__',\n",
       " '__init_subclass__',\n",
       " '__le__',\n",
       " '__lt__',\n",
       " '__module__',\n",
       " '__ne__',\n",
       " '__new__',\n",
       " '__reduce__',\n",
       " '__reduce_ex__',\n",
       " '__repr__',\n",
       " '__setattr__',\n",
       " '__sizeof__',\n",
       " '__str__',\n",
       " '__subclasshook__',\n",
       " '__weakref__',\n",
       " '_api',\n",
       " 'expires_after_secs',\n",
       " 'image',\n",
       " 'media_id',\n",
       " 'media_id_string',\n",
       " 'parse',\n",
       " 'parse_list',\n",
       " 'size']"
      ]
     },
     "execution_count": 22,
     "metadata": {},
     "output_type": "execute_result"
    }
   ],
   "source": []
  },
  {
   "cell_type": "code",
   "execution_count": 17,
   "metadata": {},
   "outputs": [],
   "source": [
    "new_Status=api.update_status(\"Hello world\",media_ids=[img_obj.media_id_string])"
   ]
  },
  {
   "cell_type": "code",
   "execution_count": 18,
   "metadata": {},
   "outputs": [
    {
     "data": {
      "text/plain": [
       "Status(_api=<tweepy.api.API object at 0x051EBC70>, _json={'created_at': 'Wed Aug 26 11:14:30 +0000 2020', 'id': 1298579570963013632, 'id_str': '1298579570963013632', 'text': 'Hello world https://t.co/2ChJKMP75Z', 'truncated': False, 'entities': {'hashtags': [], 'symbols': [], 'user_mentions': [], 'urls': [], 'media': [{'id': 1298579548594794497, 'id_str': '1298579548594794497', 'indices': [12, 35], 'media_url': 'http://pbs.twimg.com/media/EgV7OCKUcAEKOGh.png', 'media_url_https': 'https://pbs.twimg.com/media/EgV7OCKUcAEKOGh.png', 'url': 'https://t.co/2ChJKMP75Z', 'display_url': 'pic.twitter.com/2ChJKMP75Z', 'expanded_url': 'https://twitter.com/Sureshk10998816/status/1298579570963013632/photo/1', 'type': 'photo', 'sizes': {'small': {'w': 680, 'h': 382, 'resize': 'fit'}, 'medium': {'w': 1200, 'h': 675, 'resize': 'fit'}, 'thumb': {'w': 150, 'h': 150, 'resize': 'crop'}, 'large': {'w': 1366, 'h': 768, 'resize': 'fit'}}}]}, 'extended_entities': {'media': [{'id': 1298579548594794497, 'id_str': '1298579548594794497', 'indices': [12, 35], 'media_url': 'http://pbs.twimg.com/media/EgV7OCKUcAEKOGh.png', 'media_url_https': 'https://pbs.twimg.com/media/EgV7OCKUcAEKOGh.png', 'url': 'https://t.co/2ChJKMP75Z', 'display_url': 'pic.twitter.com/2ChJKMP75Z', 'expanded_url': 'https://twitter.com/Sureshk10998816/status/1298579570963013632/photo/1', 'type': 'photo', 'sizes': {'small': {'w': 680, 'h': 382, 'resize': 'fit'}, 'medium': {'w': 1200, 'h': 675, 'resize': 'fit'}, 'thumb': {'w': 150, 'h': 150, 'resize': 'crop'}, 'large': {'w': 1366, 'h': 768, 'resize': 'fit'}}}]}, 'source': '', 'in_reply_to_status_id': None, 'in_reply_to_status_id_str': None, 'in_reply_to_user_id': None, 'in_reply_to_user_id_str': None, 'in_reply_to_screen_name': None, 'user': {'id': 1298541281388331008, 'id_str': '1298541281388331008', 'name': 'Sureshkumar M', 'screen_name': 'Sureshk10998816', 'location': '', 'description': '', 'url': None, 'entities': {'description': {'urls': []}}, 'protected': False, 'followers_count': 0, 'friends_count': 0, 'listed_count': 0, 'created_at': 'Wed Aug 26 08:43:59 +0000 2020', 'favourites_count': 0, 'utc_offset': None, 'time_zone': None, 'geo_enabled': False, 'verified': False, 'statuses_count': 1, 'lang': None, 'contributors_enabled': False, 'is_translator': False, 'is_translation_enabled': False, 'profile_background_color': 'F5F8FA', 'profile_background_image_url': None, 'profile_background_image_url_https': None, 'profile_background_tile': False, 'profile_image_url': 'http://abs.twimg.com/sticky/default_profile_images/default_profile_normal.png', 'profile_image_url_https': 'https://abs.twimg.com/sticky/default_profile_images/default_profile_normal.png', 'profile_link_color': '1DA1F2', 'profile_sidebar_border_color': 'C0DEED', 'profile_sidebar_fill_color': 'DDEEF6', 'profile_text_color': '333333', 'profile_use_background_image': True, 'has_extended_profile': True, 'default_profile': True, 'default_profile_image': True, 'following': False, 'follow_request_sent': False, 'notifications': False, 'translator_type': 'none'}, 'geo': None, 'coordinates': None, 'place': None, 'contributors': None, 'is_quote_status': False, 'retweet_count': 0, 'favorite_count': 0, 'favorited': False, 'retweeted': False, 'possibly_sensitive': False, 'lang': 'en'}, created_at=datetime.datetime(2020, 8, 26, 11, 14, 30), id=1298579570963013632, id_str='1298579570963013632', text='Hello world https://t.co/2ChJKMP75Z', truncated=False, entities={'hashtags': [], 'symbols': [], 'user_mentions': [], 'urls': [], 'media': [{'id': 1298579548594794497, 'id_str': '1298579548594794497', 'indices': [12, 35], 'media_url': 'http://pbs.twimg.com/media/EgV7OCKUcAEKOGh.png', 'media_url_https': 'https://pbs.twimg.com/media/EgV7OCKUcAEKOGh.png', 'url': 'https://t.co/2ChJKMP75Z', 'display_url': 'pic.twitter.com/2ChJKMP75Z', 'expanded_url': 'https://twitter.com/Sureshk10998816/status/1298579570963013632/photo/1', 'type': 'photo', 'sizes': {'small': {'w': 680, 'h': 382, 'resize': 'fit'}, 'medium': {'w': 1200, 'h': 675, 'resize': 'fit'}, 'thumb': {'w': 150, 'h': 150, 'resize': 'crop'}, 'large': {'w': 1366, 'h': 768, 'resize': 'fit'}}}]}, extended_entities={'media': [{'id': 1298579548594794497, 'id_str': '1298579548594794497', 'indices': [12, 35], 'media_url': 'http://pbs.twimg.com/media/EgV7OCKUcAEKOGh.png', 'media_url_https': 'https://pbs.twimg.com/media/EgV7OCKUcAEKOGh.png', 'url': 'https://t.co/2ChJKMP75Z', 'display_url': 'pic.twitter.com/2ChJKMP75Z', 'expanded_url': 'https://twitter.com/Sureshk10998816/status/1298579570963013632/photo/1', 'type': 'photo', 'sizes': {'small': {'w': 680, 'h': 382, 'resize': 'fit'}, 'medium': {'w': 1200, 'h': 675, 'resize': 'fit'}, 'thumb': {'w': 150, 'h': 150, 'resize': 'crop'}, 'large': {'w': 1366, 'h': 768, 'resize': 'fit'}}}]}, source='', source_url=None, in_reply_to_status_id=None, in_reply_to_status_id_str=None, in_reply_to_user_id=None, in_reply_to_user_id_str=None, in_reply_to_screen_name=None, author=User(_api=<tweepy.api.API object at 0x051EBC70>, _json={'id': 1298541281388331008, 'id_str': '1298541281388331008', 'name': 'Sureshkumar M', 'screen_name': 'Sureshk10998816', 'location': '', 'description': '', 'url': None, 'entities': {'description': {'urls': []}}, 'protected': False, 'followers_count': 0, 'friends_count': 0, 'listed_count': 0, 'created_at': 'Wed Aug 26 08:43:59 +0000 2020', 'favourites_count': 0, 'utc_offset': None, 'time_zone': None, 'geo_enabled': False, 'verified': False, 'statuses_count': 1, 'lang': None, 'contributors_enabled': False, 'is_translator': False, 'is_translation_enabled': False, 'profile_background_color': 'F5F8FA', 'profile_background_image_url': None, 'profile_background_image_url_https': None, 'profile_background_tile': False, 'profile_image_url': 'http://abs.twimg.com/sticky/default_profile_images/default_profile_normal.png', 'profile_image_url_https': 'https://abs.twimg.com/sticky/default_profile_images/default_profile_normal.png', 'profile_link_color': '1DA1F2', 'profile_sidebar_border_color': 'C0DEED', 'profile_sidebar_fill_color': 'DDEEF6', 'profile_text_color': '333333', 'profile_use_background_image': True, 'has_extended_profile': True, 'default_profile': True, 'default_profile_image': True, 'following': False, 'follow_request_sent': False, 'notifications': False, 'translator_type': 'none'}, id=1298541281388331008, id_str='1298541281388331008', name='Sureshkumar M', screen_name='Sureshk10998816', location='', description='', url=None, entities={'description': {'urls': []}}, protected=False, followers_count=0, friends_count=0, listed_count=0, created_at=datetime.datetime(2020, 8, 26, 8, 43, 59), favourites_count=0, utc_offset=None, time_zone=None, geo_enabled=False, verified=False, statuses_count=1, lang=None, contributors_enabled=False, is_translator=False, is_translation_enabled=False, profile_background_color='F5F8FA', profile_background_image_url=None, profile_background_image_url_https=None, profile_background_tile=False, profile_image_url='http://abs.twimg.com/sticky/default_profile_images/default_profile_normal.png', profile_image_url_https='https://abs.twimg.com/sticky/default_profile_images/default_profile_normal.png', profile_link_color='1DA1F2', profile_sidebar_border_color='C0DEED', profile_sidebar_fill_color='DDEEF6', profile_text_color='333333', profile_use_background_image=True, has_extended_profile=True, default_profile=True, default_profile_image=True, following=False, follow_request_sent=False, notifications=False, translator_type='none'), user=User(_api=<tweepy.api.API object at 0x051EBC70>, _json={'id': 1298541281388331008, 'id_str': '1298541281388331008', 'name': 'Sureshkumar M', 'screen_name': 'Sureshk10998816', 'location': '', 'description': '', 'url': None, 'entities': {'description': {'urls': []}}, 'protected': False, 'followers_count': 0, 'friends_count': 0, 'listed_count': 0, 'created_at': 'Wed Aug 26 08:43:59 +0000 2020', 'favourites_count': 0, 'utc_offset': None, 'time_zone': None, 'geo_enabled': False, 'verified': False, 'statuses_count': 1, 'lang': None, 'contributors_enabled': False, 'is_translator': False, 'is_translation_enabled': False, 'profile_background_color': 'F5F8FA', 'profile_background_image_url': None, 'profile_background_image_url_https': None, 'profile_background_tile': False, 'profile_image_url': 'http://abs.twimg.com/sticky/default_profile_images/default_profile_normal.png', 'profile_image_url_https': 'https://abs.twimg.com/sticky/default_profile_images/default_profile_normal.png', 'profile_link_color': '1DA1F2', 'profile_sidebar_border_color': 'C0DEED', 'profile_sidebar_fill_color': 'DDEEF6', 'profile_text_color': '333333', 'profile_use_background_image': True, 'has_extended_profile': True, 'default_profile': True, 'default_profile_image': True, 'following': False, 'follow_request_sent': False, 'notifications': False, 'translator_type': 'none'}, id=1298541281388331008, id_str='1298541281388331008', name='Sureshkumar M', screen_name='Sureshk10998816', location='', description='', url=None, entities={'description': {'urls': []}}, protected=False, followers_count=0, friends_count=0, listed_count=0, created_at=datetime.datetime(2020, 8, 26, 8, 43, 59), favourites_count=0, utc_offset=None, time_zone=None, geo_enabled=False, verified=False, statuses_count=1, lang=None, contributors_enabled=False, is_translator=False, is_translation_enabled=False, profile_background_color='F5F8FA', profile_background_image_url=None, profile_background_image_url_https=None, profile_background_tile=False, profile_image_url='http://abs.twimg.com/sticky/default_profile_images/default_profile_normal.png', profile_image_url_https='https://abs.twimg.com/sticky/default_profile_images/default_profile_normal.png', profile_link_color='1DA1F2', profile_sidebar_border_color='C0DEED', profile_sidebar_fill_color='DDEEF6', profile_text_color='333333', profile_use_background_image=True, has_extended_profile=True, default_profile=True, default_profile_image=True, following=False, follow_request_sent=False, notifications=False, translator_type='none'), geo=None, coordinates=None, place=None, contributors=None, is_quote_status=False, retweet_count=0, favorite_count=0, favorited=False, retweeted=False, possibly_sensitive=False, lang='en')"
      ]
     },
     "execution_count": 18,
     "metadata": {},
     "output_type": "execute_result"
    }
   ],
   "source": [
    "new_Status.destroy()"
   ]
  },
  {
   "cell_type": "code",
   "execution_count": null,
   "metadata": {},
   "outputs": [],
   "source": []
  }
 ],
 "metadata": {
  "kernelspec": {
   "display_name": "Python 3",
   "language": "python",
   "name": "python3"
  },
  "language_info": {
   "codemirror_mode": {
    "name": "ipython",
    "version": 3
   },
   "file_extension": ".py",
   "mimetype": "text/x-python",
   "name": "python",
   "nbconvert_exporter": "python",
   "pygments_lexer": "ipython3",
   "version": "3.8.1"
  }
 },
 "nbformat": 4,
 "nbformat_minor": 4
}
